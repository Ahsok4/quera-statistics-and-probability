{
 "cells": [
  {
   "cell_type": "code",
   "execution_count": null,
   "metadata": {},
   "outputs": [],
   "source": [
    "from IPython.core.display import HTML\n",
    "HTML(\"<style>.jp-RenderedMarkdown{font-family:'IRANSans,Tahoma,Helvetica,sans-serif';display:flex;flex-direction:column;margin-top:10px;font-size:1rem;direction:rtl}mark{font-size:1.1rem;color:inherit;padding:2px; background-color:#88888888}</style>\")"
   ]
  },
  {
   "cell_type": "markdown",
   "metadata": {},
   "source": [
    "<div>\n",
    "در آغاز چون نیاز به توابع کتاب‌خانه‌ی \n",
    "    <mark>pandas</mark>\n",
    "    دارید، باید آن را \n",
    "    <mark>import</mark>\n",
    "    کنید.\n",
    "    </div>"
   ]
  },
  {
   "cell_type": "code",
   "execution_count": 2,
   "metadata": {
    "collapsed": false,
    "jupyter": {
     "outputs_hidden": false
    },
    "pycharm": {
     "name": "#%%\n"
    }
   },
   "outputs": [],
   "source": [
    "import pandas as pd"
   ]
  },
  {
   "cell_type": "markdown",
   "metadata": {},
   "source": [
    "<div>\n",
    "ابتدا فایل\n",
    "<mark>dates.csv</mark>\n",
    "که در کنار این نوت‌بوک وجود دارد را به وسیله‌ی کتابخانه\n",
    "    <mark>pandas</mark>\n",
    "بخوانید\n",
    "    </div>"
   ]
  },
  {
   "cell_type": "code",
   "execution_count": 3,
   "metadata": {
    "collapsed": false,
    "jupyter": {
     "outputs_hidden": false
    },
    "pycharm": {
     "name": "#%%\n"
    }
   },
   "outputs": [],
   "source": [
    "df = pd.read_csv('dates.csv')"
   ]
  },
  {
   "cell_type": "markdown",
   "metadata": {},
   "source": [
    "<div>\n",
    "می‌توانید با استفاده از متد\n",
    "    <mark>describe</mark>\n",
    "خلاصه‌ای از اطلاعات هر ستون را ببینید."
   ]
  },
  {
   "cell_type": "code",
   "execution_count": 4,
   "metadata": {},
   "outputs": [
    {
     "data": {
      "text/html": [
       "<div>\n",
       "<style scoped>\n",
       "    .dataframe tbody tr th:only-of-type {\n",
       "        vertical-align: middle;\n",
       "    }\n",
       "\n",
       "    .dataframe tbody tr th {\n",
       "        vertical-align: top;\n",
       "    }\n",
       "\n",
       "    .dataframe thead th {\n",
       "        text-align: right;\n",
       "    }\n",
       "</style>\n",
       "<table border=\"1\" class=\"dataframe\">\n",
       "  <thead>\n",
       "    <tr style=\"text-align: right;\">\n",
       "      <th></th>\n",
       "      <th>Unnamed: 0</th>\n",
       "      <th>year</th>\n",
       "    </tr>\n",
       "  </thead>\n",
       "  <tbody>\n",
       "    <tr>\n",
       "      <th>count</th>\n",
       "      <td>5000.000000</td>\n",
       "      <td>5000.000000</td>\n",
       "    </tr>\n",
       "    <tr>\n",
       "      <th>mean</th>\n",
       "      <td>222892.446400</td>\n",
       "      <td>1985.259200</td>\n",
       "    </tr>\n",
       "    <tr>\n",
       "      <th>std</th>\n",
       "      <td>126952.536025</td>\n",
       "      <td>27.788351</td>\n",
       "    </tr>\n",
       "    <tr>\n",
       "      <th>min</th>\n",
       "      <td>108.000000</td>\n",
       "      <td>1911.000000</td>\n",
       "    </tr>\n",
       "    <tr>\n",
       "      <th>25%</th>\n",
       "      <td>113078.500000</td>\n",
       "      <td>1966.000000</td>\n",
       "    </tr>\n",
       "    <tr>\n",
       "      <th>50%</th>\n",
       "      <td>222977.500000</td>\n",
       "      <td>1996.000000</td>\n",
       "    </tr>\n",
       "    <tr>\n",
       "      <th>75%</th>\n",
       "      <td>332407.000000</td>\n",
       "      <td>2008.000000</td>\n",
       "    </tr>\n",
       "    <tr>\n",
       "      <th>max</th>\n",
       "      <td>441544.000000</td>\n",
       "      <td>2020.000000</td>\n",
       "    </tr>\n",
       "  </tbody>\n",
       "</table>\n",
       "</div>"
      ],
      "text/plain": [
       "          Unnamed: 0         year\n",
       "count    5000.000000  5000.000000\n",
       "mean   222892.446400  1985.259200\n",
       "std    126952.536025    27.788351\n",
       "min       108.000000  1911.000000\n",
       "25%    113078.500000  1966.000000\n",
       "50%    222977.500000  1996.000000\n",
       "75%    332407.000000  2008.000000\n",
       "max    441544.000000  2020.000000"
      ]
     },
     "execution_count": 4,
     "metadata": {},
     "output_type": "execute_result"
    }
   ],
   "source": [
    "df.describe()"
   ]
  },
  {
   "cell_type": "markdown",
   "metadata": {},
   "source": [
    "<div>\n",
    "می‌توانید به وسیله‌ی متد \n",
    "<mark>head</mark>\n",
    "چند ردیف اول از داده را بخوانید\n",
    "    </div>"
   ]
  },
  {
   "cell_type": "code",
   "execution_count": 5,
   "metadata": {},
   "outputs": [
    {
     "data": {
      "text/html": [
       "<div>\n",
       "<style scoped>\n",
       "    .dataframe tbody tr th:only-of-type {\n",
       "        vertical-align: middle;\n",
       "    }\n",
       "\n",
       "    .dataframe tbody tr th {\n",
       "        vertical-align: top;\n",
       "    }\n",
       "\n",
       "    .dataframe thead th {\n",
       "        text-align: right;\n",
       "    }\n",
       "</style>\n",
       "<table border=\"1\" class=\"dataframe\">\n",
       "  <thead>\n",
       "    <tr style=\"text-align: right;\">\n",
       "      <th></th>\n",
       "      <th>Unnamed: 0</th>\n",
       "      <th>title</th>\n",
       "      <th>year</th>\n",
       "      <th>country</th>\n",
       "      <th>date</th>\n",
       "    </tr>\n",
       "  </thead>\n",
       "  <tbody>\n",
       "    <tr>\n",
       "      <th>0</th>\n",
       "      <td>324126</td>\n",
       "      <td>Synecdoche, New York</td>\n",
       "      <td>2008</td>\n",
       "      <td>USA</td>\n",
       "      <td>2008-11-21</td>\n",
       "    </tr>\n",
       "    <tr>\n",
       "      <th>1</th>\n",
       "      <td>66463</td>\n",
       "      <td>Close Encounters of the Third Kind</td>\n",
       "      <td>1977</td>\n",
       "      <td>Greece</td>\n",
       "      <td>1978-03-10</td>\n",
       "    </tr>\n",
       "    <tr>\n",
       "      <th>2</th>\n",
       "      <td>51496</td>\n",
       "      <td>Brotherly Love</td>\n",
       "      <td>1928</td>\n",
       "      <td>Finland</td>\n",
       "      <td>1929-11-18</td>\n",
       "    </tr>\n",
       "    <tr>\n",
       "      <th>3</th>\n",
       "      <td>236362</td>\n",
       "      <td>My Son, My Son!</td>\n",
       "      <td>1940</td>\n",
       "      <td>Mexico</td>\n",
       "      <td>1940-05-23</td>\n",
       "    </tr>\n",
       "    <tr>\n",
       "      <th>4</th>\n",
       "      <td>374347</td>\n",
       "      <td>The North Avenue Irregulars</td>\n",
       "      <td>1979</td>\n",
       "      <td>USA</td>\n",
       "      <td>1979-02-09</td>\n",
       "    </tr>\n",
       "  </tbody>\n",
       "</table>\n",
       "</div>"
      ],
      "text/plain": [
       "   Unnamed: 0                               title  year  country        date\n",
       "0      324126                Synecdoche, New York  2008      USA  2008-11-21\n",
       "1       66463  Close Encounters of the Third Kind  1977   Greece  1978-03-10\n",
       "2       51496                      Brotherly Love  1928  Finland  1929-11-18\n",
       "3      236362                     My Son, My Son!  1940   Mexico  1940-05-23\n",
       "4      374347         The North Avenue Irregulars  1979      USA  1979-02-09"
      ]
     },
     "execution_count": 5,
     "metadata": {},
     "output_type": "execute_result"
    }
   ],
   "source": [
    "df.head()"
   ]
  },
  {
   "cell_type": "markdown",
   "metadata": {},
   "source": [
    "<div>\n",
    "در\n",
    "    <mark>pandas</mark>\n",
    "    وقتی  نام ستونی در فایل \n",
    "    <mark>csv</mark>\n",
    "    ذکر نشده باشد، آن را به صورت \n",
    "    <mark>Unnamed: i</mark>\n",
    "    نام‌گذاری می‌کند که i نشان‌دهنده‌ی iمین ستون بدون نام است.\n",
    "<br>\n",
    "    <br>\n",
    "اگر به کمک دستور \n",
    "    <mark>head</mark>\n",
    "    بخشی از داده را مشاهده کرده باشید، می‌بینید که یک ستون \n",
    "    <mark>Unnamed</mark>\n",
    "    در این داده وجود دارد.\n",
    "<br>\n",
    "    <br>\n",
    "به کمک متد\n",
    "<mark>drop</mark>\n",
    " <br>\n",
    "    دقت داشته باشید که دستور drop\n",
    "    در صورتی که از ویژگی  <mark>inplace</mark>\n",
    "   استفاده نکنید یک دیتا فریم جدید برمی‌گرداند لذا یا باید آنرا در متغیر جدید ذخیره کنید و یا   <mark>inplace=True</mark> قرار دهید "
   ]
  },
  {
   "cell_type": "code",
   "execution_count": 6,
   "metadata": {
    "collapsed": false,
    "jupyter": {
     "outputs_hidden": false
    },
    "pycharm": {
     "name": "#%%\n"
    }
   },
   "outputs": [],
   "source": [
    "df.drop(columns = ['Unnamed: 0'], inplace = True)"
   ]
  },
  {
   "cell_type": "markdown",
   "metadata": {},
   "source": [
    "<div>\n",
    "اکنون اگر به نوع\n",
    "    (type)\n",
    "    ستون‌های دیتافریم نگاهی بیاندازید مشاهده می‌کنید که نوع ستون date \n",
    "    از نوع کلی object\n",
    "     می‌باشد، در حالیکه واضحا می‌دانیم که این ستون از نوع datetime\n",
    "    می‌باشد. یکی از قابلیت‌های کتابخانه pandas\n",
    "    تبدیل ستون از نوع رشته با فرمت خاص به نوع datetime\n",
    "    می‌باشد. این کار باعث راحتی فیلتر کردن تاریخ و کار با داده‌های datetime را فراهم می‌کند \n",
    "    </div>"
   ]
  },
  {
   "cell_type": "code",
   "execution_count": 7,
   "metadata": {},
   "outputs": [
    {
     "name": "stdout",
     "output_type": "stream",
     "text": [
      "title      object\n",
      "year        int64\n",
      "country    object\n",
      "date       object\n",
      "dtype: object\n"
     ]
    }
   ],
   "source": [
    "print(df.dtypes)"
   ]
  },
  {
   "cell_type": "code",
   "execution_count": 8,
   "metadata": {},
   "outputs": [
    {
     "name": "stdout",
     "output_type": "stream",
     "text": [
      "title                     object\n",
      "year                       int64\n",
      "country                   object\n",
      "date                      object\n",
      "formatted_date    datetime64[ns]\n",
      "dtype: object\n"
     ]
    }
   ],
   "source": [
    "df[\"formatted_date\"]= pd.to_datetime(df[\"date\"])\n",
    "\n",
    "print(df.dtypes)"
   ]
  },
  {
   "cell_type": "code",
   "execution_count": 9,
   "metadata": {},
   "outputs": [],
   "source": [
    "df = df.set_index('formatted_date')"
   ]
  },
  {
   "cell_type": "code",
   "execution_count": 10,
   "metadata": {},
   "outputs": [
    {
     "data": {
      "text/html": [
       "<div>\n",
       "<style scoped>\n",
       "    .dataframe tbody tr th:only-of-type {\n",
       "        vertical-align: middle;\n",
       "    }\n",
       "\n",
       "    .dataframe tbody tr th {\n",
       "        vertical-align: top;\n",
       "    }\n",
       "\n",
       "    .dataframe thead th {\n",
       "        text-align: right;\n",
       "    }\n",
       "</style>\n",
       "<table border=\"1\" class=\"dataframe\">\n",
       "  <thead>\n",
       "    <tr style=\"text-align: right;\">\n",
       "      <th></th>\n",
       "      <th>title</th>\n",
       "      <th>year</th>\n",
       "      <th>country</th>\n",
       "      <th>date</th>\n",
       "    </tr>\n",
       "    <tr>\n",
       "      <th>formatted_date</th>\n",
       "      <th></th>\n",
       "      <th></th>\n",
       "      <th></th>\n",
       "      <th></th>\n",
       "    </tr>\n",
       "  </thead>\n",
       "  <tbody>\n",
       "    <tr>\n",
       "      <th>2015-05-07</th>\n",
       "      <td>Les combattants</td>\n",
       "      <td>2014</td>\n",
       "      <td>Greece</td>\n",
       "      <td>2015-05-07</td>\n",
       "    </tr>\n",
       "    <tr>\n",
       "      <th>2015-05-07</th>\n",
       "      <td>Hot Pursuit</td>\n",
       "      <td>2015</td>\n",
       "      <td>Philippines</td>\n",
       "      <td>2015-05-07</td>\n",
       "    </tr>\n",
       "    <tr>\n",
       "      <th>2015-05-21</th>\n",
       "      <td>Tomorrowland</td>\n",
       "      <td>2015</td>\n",
       "      <td>Israel</td>\n",
       "      <td>2015-05-21</td>\n",
       "    </tr>\n",
       "    <tr>\n",
       "      <th>2015-05-21</th>\n",
       "      <td>Kami no tsuki</td>\n",
       "      <td>2014</td>\n",
       "      <td>Hong Kong</td>\n",
       "      <td>2015-05-21</td>\n",
       "    </tr>\n",
       "    <tr>\n",
       "      <th>2015-05-21</th>\n",
       "      <td>Tomorrowland</td>\n",
       "      <td>2015</td>\n",
       "      <td>Ukraine</td>\n",
       "      <td>2015-05-21</td>\n",
       "    </tr>\n",
       "    <tr>\n",
       "      <th>2015-05-28</th>\n",
       "      <td>Paul Blart: Mall Cop 2</td>\n",
       "      <td>2015</td>\n",
       "      <td>Czech Republic</td>\n",
       "      <td>2015-05-28</td>\n",
       "    </tr>\n",
       "    <tr>\n",
       "      <th>2015-05-15</th>\n",
       "      <td>A Royal Night Out</td>\n",
       "      <td>2015</td>\n",
       "      <td>Ireland</td>\n",
       "      <td>2015-05-15</td>\n",
       "    </tr>\n",
       "    <tr>\n",
       "      <th>2015-05-21</th>\n",
       "      <td>She's Funny That Way</td>\n",
       "      <td>2014</td>\n",
       "      <td>Serbia</td>\n",
       "      <td>2015-05-21</td>\n",
       "    </tr>\n",
       "    <tr>\n",
       "      <th>2015-05-08</th>\n",
       "      <td>The Little Death</td>\n",
       "      <td>2014</td>\n",
       "      <td>UK</td>\n",
       "      <td>2015-05-08</td>\n",
       "    </tr>\n",
       "    <tr>\n",
       "      <th>2015-05-22</th>\n",
       "      <td>Kamara Kattu</td>\n",
       "      <td>2015</td>\n",
       "      <td>India</td>\n",
       "      <td>2015-05-22</td>\n",
       "    </tr>\n",
       "    <tr>\n",
       "      <th>2015-05-22</th>\n",
       "      <td>Na Maloom Afraad</td>\n",
       "      <td>2014</td>\n",
       "      <td>UK</td>\n",
       "      <td>2015-05-22</td>\n",
       "    </tr>\n",
       "    <tr>\n",
       "      <th>2015-05-29</th>\n",
       "      <td>I Love Desi</td>\n",
       "      <td>2015</td>\n",
       "      <td>India</td>\n",
       "      <td>2015-05-29</td>\n",
       "    </tr>\n",
       "    <tr>\n",
       "      <th>2015-05-29</th>\n",
       "      <td>What We Did on Our Holiday</td>\n",
       "      <td>2014</td>\n",
       "      <td>Spain</td>\n",
       "      <td>2015-05-29</td>\n",
       "    </tr>\n",
       "    <tr>\n",
       "      <th>2015-05-22</th>\n",
       "      <td>Jamai 420</td>\n",
       "      <td>2015</td>\n",
       "      <td>India</td>\n",
       "      <td>2015-05-22</td>\n",
       "    </tr>\n",
       "    <tr>\n",
       "      <th>2015-05-13</th>\n",
       "      <td>Aynehaye rooberoo</td>\n",
       "      <td>2011</td>\n",
       "      <td>France</td>\n",
       "      <td>2015-05-13</td>\n",
       "    </tr>\n",
       "    <tr>\n",
       "      <th>2015-05-29</th>\n",
       "      <td>Wonder Mama</td>\n",
       "      <td>2014</td>\n",
       "      <td>China</td>\n",
       "      <td>2015-05-29</td>\n",
       "    </tr>\n",
       "    <tr>\n",
       "      <th>2015-05-22</th>\n",
       "      <td>1944</td>\n",
       "      <td>2015</td>\n",
       "      <td>Lithuania</td>\n",
       "      <td>2015-05-22</td>\n",
       "    </tr>\n",
       "    <tr>\n",
       "      <th>2015-05-29</th>\n",
       "      <td>10.000 Km</td>\n",
       "      <td>2014</td>\n",
       "      <td>Sweden</td>\n",
       "      <td>2015-05-29</td>\n",
       "    </tr>\n",
       "    <tr>\n",
       "      <th>2015-05-22</th>\n",
       "      <td>Unfinished Business</td>\n",
       "      <td>2015</td>\n",
       "      <td>Turkey</td>\n",
       "      <td>2015-05-22</td>\n",
       "    </tr>\n",
       "  </tbody>\n",
       "</table>\n",
       "</div>"
      ],
      "text/plain": [
       "                                     title  year         country        date\n",
       "formatted_date                                                              \n",
       "2015-05-07                 Les combattants  2014          Greece  2015-05-07\n",
       "2015-05-07                     Hot Pursuit  2015     Philippines  2015-05-07\n",
       "2015-05-21                    Tomorrowland  2015          Israel  2015-05-21\n",
       "2015-05-21                   Kami no tsuki  2014       Hong Kong  2015-05-21\n",
       "2015-05-21                    Tomorrowland  2015         Ukraine  2015-05-21\n",
       "2015-05-28          Paul Blart: Mall Cop 2  2015  Czech Republic  2015-05-28\n",
       "2015-05-15               A Royal Night Out  2015         Ireland  2015-05-15\n",
       "2015-05-21            She's Funny That Way  2014          Serbia  2015-05-21\n",
       "2015-05-08                The Little Death  2014              UK  2015-05-08\n",
       "2015-05-22                    Kamara Kattu  2015           India  2015-05-22\n",
       "2015-05-22                Na Maloom Afraad  2014              UK  2015-05-22\n",
       "2015-05-29                     I Love Desi  2015           India  2015-05-29\n",
       "2015-05-29      What We Did on Our Holiday  2014           Spain  2015-05-29\n",
       "2015-05-22                       Jamai 420  2015           India  2015-05-22\n",
       "2015-05-13               Aynehaye rooberoo  2011          France  2015-05-13\n",
       "2015-05-29                     Wonder Mama  2014           China  2015-05-29\n",
       "2015-05-22                            1944  2015       Lithuania  2015-05-22\n",
       "2015-05-29                       10.000 Km  2014          Sweden  2015-05-29\n",
       "2015-05-22             Unfinished Business  2015          Turkey  2015-05-22"
      ]
     },
     "execution_count": 10,
     "metadata": {},
     "output_type": "execute_result"
    }
   ],
   "source": [
    "df.loc[\"2015-5\":\"2015-5\"]"
   ]
  },
  {
   "cell_type": "markdown",
   "metadata": {},
   "source": [
    "<div>\n",
    "    یکی دیگر از متد‌های pandas\n",
    "    که برای کار را برای پردازش داده‌های رشته‌ای بسیار راحت می‌کند، متد str\n",
    "     می‌باشد. با استفاده از این متد می‌توانید فیلترهایی به شکل \n",
    "    <mark>regex</mark>\n",
    "    را بر روی داده‌های رشته‌ای اعمال کنید.\n",
    "    <br>\n",
    "    به طور مثال می‌خواهیم تمام فیلم‌هایی که نام کشور آن‌ها \n",
    "    فاقد فاصله \n",
    "    (space)\n",
    "    هستند و سال ساخت آنها ماه دسامبر ۲۰۰۵ \n",
    "    می‌باشد را فیلتر کنیم:\n",
    "    </div>"
   ]
  },
  {
   "cell_type": "code",
   "execution_count": 11,
   "metadata": {},
   "outputs": [
    {
     "data": {
      "text/html": [
       "<div>\n",
       "<style scoped>\n",
       "    .dataframe tbody tr th:only-of-type {\n",
       "        vertical-align: middle;\n",
       "    }\n",
       "\n",
       "    .dataframe tbody tr th {\n",
       "        vertical-align: top;\n",
       "    }\n",
       "\n",
       "    .dataframe thead th {\n",
       "        text-align: right;\n",
       "    }\n",
       "</style>\n",
       "<table border=\"1\" class=\"dataframe\">\n",
       "  <thead>\n",
       "    <tr style=\"text-align: right;\">\n",
       "      <th></th>\n",
       "      <th>title</th>\n",
       "      <th>year</th>\n",
       "      <th>country</th>\n",
       "      <th>date</th>\n",
       "    </tr>\n",
       "    <tr>\n",
       "      <th>formatted_date</th>\n",
       "      <th></th>\n",
       "      <th></th>\n",
       "      <th></th>\n",
       "      <th></th>\n",
       "    </tr>\n",
       "  </thead>\n",
       "  <tbody>\n",
       "    <tr>\n",
       "      <th>2005-12-08</th>\n",
       "      <td>Creep</td>\n",
       "      <td>2004</td>\n",
       "      <td>Hong Kong</td>\n",
       "      <td>2005-12-08</td>\n",
       "    </tr>\n",
       "    <tr>\n",
       "      <th>2005-12-28</th>\n",
       "      <td>Maxx</td>\n",
       "      <td>2005</td>\n",
       "      <td>Iran</td>\n",
       "      <td>2005-12-28</td>\n",
       "    </tr>\n",
       "    <tr>\n",
       "      <th>2005-12-23</th>\n",
       "      <td>The Chronicles of Narnia: The Lion, the Witch ...</td>\n",
       "      <td>2005</td>\n",
       "      <td>Bulgaria</td>\n",
       "      <td>2005-12-23</td>\n",
       "    </tr>\n",
       "    <tr>\n",
       "      <th>2005-12-08</th>\n",
       "      <td>Bulutlari beklerken</td>\n",
       "      <td>2003</td>\n",
       "      <td>Germany</td>\n",
       "      <td>2005-12-08</td>\n",
       "    </tr>\n",
       "    <tr>\n",
       "      <th>2005-12-14</th>\n",
       "      <td>King Kong</td>\n",
       "      <td>2005</td>\n",
       "      <td>Georgia</td>\n",
       "      <td>2005-12-14</td>\n",
       "    </tr>\n",
       "    <tr>\n",
       "      <th>2005-12-15</th>\n",
       "      <td>King Kong</td>\n",
       "      <td>2005</td>\n",
       "      <td>Kazakhstan</td>\n",
       "      <td>2005-12-15</td>\n",
       "    </tr>\n",
       "    <tr>\n",
       "      <th>2005-12-22</th>\n",
       "      <td>Corpse Bride</td>\n",
       "      <td>2005</td>\n",
       "      <td>Portugal</td>\n",
       "      <td>2005-12-22</td>\n",
       "    </tr>\n",
       "    <tr>\n",
       "      <th>2005-12-02</th>\n",
       "      <td>Keeping Mum</td>\n",
       "      <td>2005</td>\n",
       "      <td>Ireland</td>\n",
       "      <td>2005-12-02</td>\n",
       "    </tr>\n",
       "    <tr>\n",
       "      <th>2005-12-28</th>\n",
       "      <td>Tiempo real</td>\n",
       "      <td>2002</td>\n",
       "      <td>France</td>\n",
       "      <td>2005-12-28</td>\n",
       "    </tr>\n",
       "    <tr>\n",
       "      <th>2005-12-22</th>\n",
       "      <td>The Chronicles of Narnia: The Lion, the Witch ...</td>\n",
       "      <td>2005</td>\n",
       "      <td>Singapore</td>\n",
       "      <td>2005-12-22</td>\n",
       "    </tr>\n",
       "  </tbody>\n",
       "</table>\n",
       "</div>"
      ],
      "text/plain": [
       "                                                            title  year  \\\n",
       "formatted_date                                                            \n",
       "2005-12-08                                                  Creep  2004   \n",
       "2005-12-28                                                   Maxx  2005   \n",
       "2005-12-23      The Chronicles of Narnia: The Lion, the Witch ...  2005   \n",
       "2005-12-08                                    Bulutlari beklerken  2003   \n",
       "2005-12-14                                              King Kong  2005   \n",
       "2005-12-15                                              King Kong  2005   \n",
       "2005-12-22                                           Corpse Bride  2005   \n",
       "2005-12-02                                            Keeping Mum  2005   \n",
       "2005-12-28                                            Tiempo real  2002   \n",
       "2005-12-22      The Chronicles of Narnia: The Lion, the Witch ...  2005   \n",
       "\n",
       "                   country        date  \n",
       "formatted_date                          \n",
       "2005-12-08       Hong Kong  2005-12-08  \n",
       "2005-12-28            Iran  2005-12-28  \n",
       "2005-12-23        Bulgaria  2005-12-23  \n",
       "2005-12-08         Germany  2005-12-08  \n",
       "2005-12-14         Georgia  2005-12-14  \n",
       "2005-12-15      Kazakhstan  2005-12-15  \n",
       "2005-12-22        Portugal  2005-12-22  \n",
       "2005-12-02         Ireland  2005-12-02  \n",
       "2005-12-28          France  2005-12-28  \n",
       "2005-12-22       Singapore  2005-12-22  "
      ]
     },
     "execution_count": 11,
     "metadata": {},
     "output_type": "execute_result"
    }
   ],
   "source": [
    "m_2005 = df.loc[\"2005-12\"]\n",
    "m_2005[m_2005['country'].str.match(r\"\\S\")]"
   ]
  },
  {
   "cell_type": "markdown",
   "metadata": {},
   "source": [
    "<div>\n",
    "      برای این تمرین شما بایستی پس از حذف ستون \n",
    "    <mark>Unnamed: i</mark>\n",
    "    تمامی فیلم‌هایی که در بازه زمانی \n",
    "    <mark>2000-11</mark>تا\n",
    "<mark>2018-11</mark>\n",
    "    ساخته شده‌اند و اول نام فیلم‌ها با حرف \n",
    "    <mark>B</mark>\n",
    "    شروع می‌شود را فیلتر کرده و مقادیر خروجی را با توجه به index\n",
    "    را با کمک متد \n",
    "    <a href=\"https://pandas.pydata.org/pandas-docs/stable/reference/api/pandas.DataFrame.sort_index.html\">sort_index</a> \n",
    "    مرتب کرده \n",
    "    و در فایل \n",
    "    <mark>sample.csv</mark>\n",
    "    ذخیره کنید.\n",
    "    <br>\n",
    "    <br>\n",
    "    برای راحتی ادامه فرآیند نام متغیر نهایی را از \n",
    "    <mark> filtered_df</mark>\n",
    "    تغییر ندهید \n",
    "    </div>"
   ]
  },
  {
   "cell_type": "code",
   "execution_count": 14,
   "metadata": {},
   "outputs": [],
   "source": [
    "filter = df.loc[\"2000-11\":\"2018-11\"]\n",
    "filtered_df = filter[filter['title'].str.match(r'(^B.*)')]\n",
    "filtered_df = filtered_df.sort_index()"
   ]
  },
  {
   "cell_type": "markdown",
   "metadata": {},
   "source": [
    "<div>\n",
    "    برای تست پاسخ خود می‌توانید از دوسلول زیر استفاده کنید. در سلول اول ستون‌های اولین ردیف از جدول خود را می‌توانید مشاهده کنید و در سلول بعدی index اولین ردیف را می‌توانید چک کنید\n",
    " و در انتها shape دیتافریم خروجی را می‌توانید بررسی کنید.    \n",
    "</div>"
   ]
  },
  {
   "cell_type": "code",
   "execution_count": 15,
   "metadata": {},
   "outputs": [],
   "source": [
    "assert filtered_df.iloc[0].to_dict() == {'title': 'Bless the Child','year': 2000, 'country': 'Iceland', 'date': '2001-01-12'}"
   ]
  },
  {
   "cell_type": "code",
   "execution_count": 16,
   "metadata": {},
   "outputs": [],
   "source": [
    "assert filtered_df.head(1).index == '2001-01-12'"
   ]
  },
  {
   "cell_type": "code",
   "execution_count": 17,
   "metadata": {},
   "outputs": [],
   "source": [
    "assert filtered_df.shape == (99, 4)"
   ]
  },
  {
   "cell_type": "markdown",
   "metadata": {},
   "source": [
    "<div>\n",
    "    <mark>توجه»</mark>\n",
    "    متد to_csv  را بدون هیچ پارامتر دیگری به جز نام \n",
    "    <mark>sample.csv</mark>\n",
    "     ، یعنی به صورت زیر صدا بزنید و \n",
    "    <mark>header</mark> , <mark>index</mark> آنرا تغییر ندهید\n",
    "</div>"
   ]
  },
  {
   "cell_type": "code",
   "execution_count": 18,
   "metadata": {
    "collapsed": false,
    "jupyter": {
     "outputs_hidden": false
    },
    "pycharm": {
     "name": "#%%\n"
    }
   },
   "outputs": [],
   "source": [
    "filtered_df.to_csv('sample.csv')"
   ]
  },
  {
   "cell_type": "markdown",
   "metadata": {},
   "source": [
    "بعد از ذخیره کردن نوت‌بوک، **ارسال پاسخ** را انتخاب کنید."
   ]
  },
  {
   "cell_type": "code",
   "execution_count": null,
   "metadata": {},
   "outputs": [],
   "source": []
  }
 ],
 "metadata": {
  "kernelspec": {
   "display_name": "Python 3",
   "language": "python",
   "name": "python3"
  },
  "language_info": {
   "codemirror_mode": {
    "name": "ipython",
    "version": 3
   },
   "file_extension": ".py",
   "mimetype": "text/x-python",
   "name": "python",
   "nbconvert_exporter": "python",
   "pygments_lexer": "ipython3",
   "version": "3.8.2"
  },
  "pycharm": {
   "stem_cell": {
    "cell_type": "raw",
    "metadata": {
     "collapsed": false
    },
    "source": []
   }
  }
 },
 "nbformat": 4,
 "nbformat_minor": 4
}