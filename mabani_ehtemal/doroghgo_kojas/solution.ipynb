{
 "cells": [
  {
   "cell_type": "markdown",
   "metadata": {},
   "source": [
    "<div id=\"h1\" style=\"direction:rtl;line-height:300%;\">\n",
    "\t<font face=\"XB Zar\" size=5>\n",
    "<div align=center>\n",
    "\t\t\t<font face=\"IranNastaliq\" size=30>\n",
    "\t\t\t\t<p></p>\n",
    "\t\t\t\t<p></p>\n",
    "به نام خدا\n",
    "\t\t\t\t<p></p>\n",
    "\t\t\t</font>\n",
    "\t\t</div>\n",
    "\t\t<hr/>\n",
    "\t\t<font color=#43a8a5 size=6>\n",
    "\t\t\t<br />\n",
    "\t\t\t<div align=center>\t\n",
    "دروغگو کجاست؟\n",
    "</div>\n",
    "\t\t</font>\n",
    "        <br />\n",
    "\t\t<p></p>\n",
    "        به سوالات زیر از طریق نوشتن کد پایتون پاسخ دهید. کد هر سه را در توابع fun1 و fun2  بنویسید. \n",
    "        <br/>\n",
    "        <li>\n",
    "        میزگردی شامل m فرد دروغگو و راستگو تشکیل شده است. هر کسی ادعا می‌کند دو فرد کنار دستی او دروغگو هستند. چون افراد دروغگو اصلا از راست‌گویی خوششان نمی‌آید هیچ وقت حاضر نیستند بین دو راستگو بنشینند. چند نفر دروغگو در جمع وجود دارد؟ اگر امکان ندارد چنین چینش رخ دهد $-۱$ برگرداند.\n",
    "        </li>\n",
    "        <li>\n",
    "        میزگرد دیگری شامل n نفر فرد راستگو و دروغگو تشکیل شده است به طوری که هر فرد ادعا می‌کند از میان دو نفر کنار دستی یک نفر راستگو و یک نفر دروغگو هستند. چند نفر دروغگو در جمع وجود دارد؟ اکر امکان وجود چنین چینش نبود $-۱$ برگرداند.( حداقل یک راستگو و یک دروغگو در جمع حضور دارند)\n",
    "        </li>\n",
    "         <br/>\n",
    "        دروغگو همواره دروغ می گوید و راستگو همواره راست می‌گوید.\n",
    "        <br>\n",
    "        پس از تکمیل و اجرای توابع می‌توانید کد زیر را در خط اول سلول پایین قرار دهید و اجرا کنید تا خودش کد آن را در فایل ثبت کند.\n",
    "\n",
    "`%%writefile combinatory_exercise.py`\n",
    "</font>\n",
    "</div>\n"
   ]
  },
  {
   "cell_type": "code",
   "execution_count": 12,
   "metadata": {},
   "outputs": [
    {
     "name": "stdout",
     "output_type": "stream",
     "text": [
      "Writing combinatory_exercise.py\n"
     ]
    }
   ],
   "source": [
    "%%writefile combinatory_exercise.py\n",
    "def fun1(m):\n",
    "    if(m % 3 == 0):\n",
    "        return 2*m/3\n",
    "    return -1\n",
    "\n",
    "def fun2(n):\n",
    "    if(n % 3 == 0):\n",
    "        return n/3\n",
    "    return -1\n",
    "    \n",
    "x = fun1(7)\n"
   ]
  },
  {
   "cell_type": "markdown",
   "metadata": {},
   "source": [
    "<div id=\"h1\" style=\"direction:rtl;line-height:300%;\">\n",
    "\t<font face=\"XB Zar\" size=5>\n",
    "        <br>\n",
    "تابع choose را طوری تکمیل کنید که به ازای ورودی‌های m و n که مقدار ترکیب n از m را برگرداند:\n",
    "        <br>\n",
    "                پس از تکمیل و اجرای توابع می‌توانید کد زیر را در خط اول سلول پایین قرار دهید و اجرا کنید تا خودش کد آن را در فایل ثبت کند.\n",
    "\n",
    "`%%writefile choose.py`\n"
   ]
  },
  {
   "cell_type": "code",
   "execution_count": 13,
   "metadata": {},
   "outputs": [
    {
     "name": "stdout",
     "output_type": "stream",
     "text": [
      "Writing choose.py\n"
     ]
    }
   ],
   "source": [
    "%%writefile choose.py\n",
    "import math\n",
    "\n",
    "def choose(n,r):\n",
    "    if (n > 0 and r >= 0):\n",
    "        f = math.factorial\n",
    "        return f(n) / (f(r) * f(n-r))\n",
    "    return 0\n",
    "\n"
   ]
  },
  {
   "cell_type": "code",
   "execution_count": null,
   "metadata": {},
   "outputs": [],
   "source": []
  }
 ],
 "metadata": {
  "kernelspec": {
   "display_name": "Python 3",
   "language": "python",
   "name": "python3"
  },
  "language_info": {
   "codemirror_mode": {
    "name": "ipython",
    "version": 3
   },
   "file_extension": ".py",
   "mimetype": "text/x-python",
   "name": "python",
   "nbconvert_exporter": "python",
   "pygments_lexer": "ipython3",
   "version": "3.8.2"
  }
 },
 "nbformat": 4,
 "nbformat_minor": 4
}
